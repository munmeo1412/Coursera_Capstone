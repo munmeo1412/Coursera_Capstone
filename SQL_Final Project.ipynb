{
    "cells": [
        {
            "cell_type": "code",
            "execution_count": 1,
            "metadata": {},
            "outputs": [
                {
                    "name": "stdout",
                    "output_type": "stream",
                    "text": "Requirement already satisfied: ipython-sql in /opt/conda/envs/Python36/lib/python3.6/site-packages (0.3.9)\nRequirement already satisfied: six in /opt/conda/envs/Python36/lib/python3.6/site-packages (from ipython-sql) (1.12.0)\nRequirement already satisfied: sqlalchemy>=0.6.7 in /opt/conda/envs/Python36/lib/python3.6/site-packages (from ipython-sql) (1.2.18)\nRequirement already satisfied: ipython-genutils>=0.1.0 in /opt/conda/envs/Python36/lib/python3.6/site-packages (from ipython-sql) (0.2.0)\nRequirement already satisfied: sqlparse in /opt/conda/envs/Python36/lib/python3.6/site-packages (from ipython-sql) (0.3.0)\nRequirement already satisfied: prettytable in /opt/conda/envs/Python36/lib/python3.6/site-packages (from ipython-sql) (0.7.2)\nRequirement already satisfied: ipython>=1.0 in /opt/conda/envs/Python36/lib/python3.6/site-packages (from ipython-sql) (7.2.0)\nRequirement already satisfied: prompt-toolkit<2.1.0,>=2.0.0 in /opt/conda/envs/Python36/lib/python3.6/site-packages (from ipython>=1.0->ipython-sql) (2.0.8)\nRequirement already satisfied: traitlets>=4.2 in /opt/conda/envs/Python36/lib/python3.6/site-packages (from ipython>=1.0->ipython-sql) (4.3.2)\nRequirement already satisfied: pickleshare in /opt/conda/envs/Python36/lib/python3.6/site-packages (from ipython>=1.0->ipython-sql) (0.7.5)\nRequirement already satisfied: pexpect; sys_platform != \"win32\" in /opt/conda/envs/Python36/lib/python3.6/site-packages (from ipython>=1.0->ipython-sql) (4.6.0)\nRequirement already satisfied: decorator in /opt/conda/envs/Python36/lib/python3.6/site-packages (from ipython>=1.0->ipython-sql) (4.3.2)\nRequirement already satisfied: pygments in /opt/conda/envs/Python36/lib/python3.6/site-packages (from ipython>=1.0->ipython-sql) (2.3.1)\nRequirement already satisfied: setuptools>=18.5 in /opt/conda/envs/Python36/lib/python3.6/site-packages (from ipython>=1.0->ipython-sql) (40.8.0)\nRequirement already satisfied: backcall in /opt/conda/envs/Python36/lib/python3.6/site-packages (from ipython>=1.0->ipython-sql) (0.1.0)\nRequirement already satisfied: jedi>=0.10 in /opt/conda/envs/Python36/lib/python3.6/site-packages (from ipython>=1.0->ipython-sql) (0.13.2)\nRequirement already satisfied: wcwidth in /opt/conda/envs/Python36/lib/python3.6/site-packages (from prompt-toolkit<2.1.0,>=2.0.0->ipython>=1.0->ipython-sql) (0.1.7)\nRequirement already satisfied: ptyprocess>=0.5 in /opt/conda/envs/Python36/lib/python3.6/site-packages (from pexpect; sys_platform != \"win32\"->ipython>=1.0->ipython-sql) (0.6.0)\nRequirement already satisfied: parso>=0.3.0 in /opt/conda/envs/Python36/lib/python3.6/site-packages (from jedi>=0.10->ipython>=1.0->ipython-sql) (0.3.2)\n"
                }
            ],
            "source": "!pip install ipython-sql"
        },
        {
            "cell_type": "code",
            "execution_count": 2,
            "metadata": {},
            "outputs": [],
            "source": "%load_ext sql"
        },
        {
            "cell_type": "code",
            "execution_count": 3,
            "metadata": {},
            "outputs": [
                {
                    "data": {
                        "text/plain": "'Connected: jnb22173@BLUDB'"
                    },
                    "execution_count": 3,
                    "metadata": {},
                    "output_type": "execute_result"
                }
            ],
            "source": "%sql ibm_db_sa://jnb22173:vc594fv6%40b740msz@dashdb-txn-sbox-yp-dal09-04.services.dal.bluemix.net:50000/BLUDB"
        },
        {
            "cell_type": "code",
            "execution_count": 4,
            "metadata": {},
            "outputs": [],
            "source": "import pandas"
        },
        {
            "cell_type": "code",
            "execution_count": 5,
            "metadata": {},
            "outputs": [],
            "source": "CHICAGO_CRIME_DATA_ = pandas.read_csv('https://ibm.box.com/shared/static/svflyugsr9zbqy5bmowgswqemfpm1x7f.csv')"
        },
        {
            "cell_type": "code",
            "execution_count": null,
            "metadata": {},
            "outputs": [],
            "source": ""
        },
        {
            "cell_type": "code",
            "execution_count": 6,
            "metadata": {},
            "outputs": [
                {
                    "name": "stdout",
                    "output_type": "stream",
                    "text": " * ibm_db_sa://jnb22173:***@dashdb-txn-sbox-yp-dal09-04.services.dal.bluemix.net:50000/BLUDB\nDone.\n"
                },
                {
                    "data": {
                        "text/html": "<table>\n    <tr>\n        <th>1</th>\n    </tr>\n    <tr>\n        <td>533</td>\n    </tr>\n</table>",
                        "text/plain": "[(Decimal('533'),)]"
                    },
                    "execution_count": 6,
                    "metadata": {},
                    "output_type": "execute_result"
                }
            ],
            "source": "%sql SELECT COUNT(*) FROM CHICAGO_CRIME_DATA_"
        },
        {
            "cell_type": "code",
            "execution_count": 7,
            "metadata": {},
            "outputs": [
                {
                    "name": "stdout",
                    "output_type": "stream",
                    "text": " * ibm_db_sa://jnb22173:***@dashdb-txn-sbox-yp-dal09-04.services.dal.bluemix.net:50000/BLUDB\nDone.\n"
                },
                {
                    "data": {
                        "text/html": "<table>\n    <tr>\n        <th>index</th>\n        <th>id</th>\n        <th>case_number</th>\n        <th>DATE</th>\n        <th>block</th>\n        <th>iucr</th>\n        <th>primary_type</th>\n        <th>description</th>\n        <th>location_description</th>\n        <th>arrest</th>\n        <th>domestic</th>\n        <th>beat</th>\n        <th>district</th>\n        <th>ward</th>\n        <th>community_area_number</th>\n        <th>fbicode</th>\n        <th>x_coordinate</th>\n        <th>y_coordinate</th>\n        <th>YEAR</th>\n        <th>updatedon</th>\n        <th>latitude</th>\n        <th>longitude</th>\n        <th>location</th>\n    </tr>\n    <tr>\n        <td>0</td>\n        <td>3512276</td>\n        <td>HK587712</td>\n        <td>08/28/2004 05:50:56 PM</td>\n        <td>047XX S KEDZIE AVE</td>\n        <td>890</td>\n        <td>THEFT</td>\n        <td>FROM BUILDING</td>\n        <td>SMALL RETAIL STORE</td>\n        <td>0</td>\n        <td>0</td>\n        <td>911</td>\n        <td>9</td>\n        <td>14.0</td>\n        <td>58.0</td>\n        <td>6</td>\n        <td>1155838.0</td>\n        <td>1873050.0</td>\n        <td>2004</td>\n        <td>02/10/2018 03:50:01 PM</td>\n        <td>41.807440500000006</td>\n        <td>-87.70395585</td>\n        <td>(41.8074405, -87.703955849)</td>\n    </tr>\n    <tr>\n        <td>1</td>\n        <td>3406613</td>\n        <td>HK456306</td>\n        <td>06/26/2004 12:40:00 PM</td>\n        <td>009XX N CENTRAL PARK AVE</td>\n        <td>820</td>\n        <td>THEFT</td>\n        <td>$500 AND UNDER</td>\n        <td>OTHER</td>\n        <td>0</td>\n        <td>0</td>\n        <td>1112</td>\n        <td>11</td>\n        <td>27.0</td>\n        <td>23.0</td>\n        <td>6</td>\n        <td>1152206.0</td>\n        <td>1906127.0</td>\n        <td>2004</td>\n        <td>02/28/2018 03:56:25 PM</td>\n        <td>41.89827996</td>\n        <td>-87.71640551</td>\n        <td>(41.898279962, -87.716405505)</td>\n    </tr>\n    <tr>\n        <td>2</td>\n        <td>8002131</td>\n        <td>HT233595</td>\n        <td>04/04/2011 05:45:00 AM</td>\n        <td>043XX S WABASH AVE</td>\n        <td>820</td>\n        <td>THEFT</td>\n        <td>$500 AND UNDER</td>\n        <td>NURSING HOME/RETIREMENT HOME</td>\n        <td>0</td>\n        <td>0</td>\n        <td>221</td>\n        <td>2</td>\n        <td>3.0</td>\n        <td>38.0</td>\n        <td>6</td>\n        <td>1177436.0</td>\n        <td>1876313.0</td>\n        <td>2011</td>\n        <td>02/10/2018 03:50:01 PM</td>\n        <td>41.81593313</td>\n        <td>-87.62464213</td>\n        <td>(41.815933131, -87.624642127)</td>\n    </tr>\n    <tr>\n        <td>3</td>\n        <td>7903289</td>\n        <td>HT133522</td>\n        <td>12/30/2010 04:30:00 PM</td>\n        <td>083XX S KINGSTON AVE</td>\n        <td>840</td>\n        <td>THEFT</td>\n        <td>FINANCIAL ID THEFT: OVER $300</td>\n        <td>RESIDENCE</td>\n        <td>0</td>\n        <td>0</td>\n        <td>423</td>\n        <td>4</td>\n        <td>7.0</td>\n        <td>46.0</td>\n        <td>6</td>\n        <td>1194622.0</td>\n        <td>1850125.0</td>\n        <td>2010</td>\n        <td>02/10/2018 03:50:01 PM</td>\n        <td>41.74366532</td>\n        <td>-87.56246276</td>\n        <td>(41.743665322, -87.562462756)</td>\n    </tr>\n    <tr>\n        <td>4</td>\n        <td>10402076</td>\n        <td>HZ138551</td>\n        <td>02/02/2016 07:30:00 PM</td>\n        <td>033XX W 66TH ST</td>\n        <td>820</td>\n        <td>THEFT</td>\n        <td>$500 AND UNDER</td>\n        <td>ALLEY</td>\n        <td>0</td>\n        <td>0</td>\n        <td>831</td>\n        <td>8</td>\n        <td>15.0</td>\n        <td>66.0</td>\n        <td>6</td>\n        <td>1155240.0</td>\n        <td>1860661.0</td>\n        <td>2016</td>\n        <td>02/10/2018 03:50:01 PM</td>\n        <td>41.773455299999995</td>\n        <td>-87.70648047</td>\n        <td>(41.773455295, -87.706480471)</td>\n    </tr>\n    <tr>\n        <td>5</td>\n        <td>7732712</td>\n        <td>HS540106</td>\n        <td>09/29/2010 07:59:00 AM</td>\n        <td>006XX W CHICAGO AVE</td>\n        <td>810</td>\n        <td>THEFT</td>\n        <td>OVER $500</td>\n        <td>PARKING LOT/GARAGE(NON.RESID.)</td>\n        <td>0</td>\n        <td>0</td>\n        <td>1323</td>\n        <td>12</td>\n        <td>27.0</td>\n        <td>24.0</td>\n        <td>6</td>\n        <td>1171668.0</td>\n        <td>1905607.0</td>\n        <td>2010</td>\n        <td>02/10/2018 03:50:01 PM</td>\n        <td>41.89644677</td>\n        <td>-87.64493868</td>\n        <td>(41.896446772, -87.644938678)</td>\n    </tr>\n    <tr>\n        <td>6</td>\n        <td>10769475</td>\n        <td>HZ534771</td>\n        <td>11/30/2016 01:15:00 AM</td>\n        <td>050XX N KEDZIE AVE</td>\n        <td>810</td>\n        <td>THEFT</td>\n        <td>OVER $500</td>\n        <td>STREET</td>\n        <td>0</td>\n        <td>0</td>\n        <td>1713</td>\n        <td>17</td>\n        <td>33.0</td>\n        <td>14.0</td>\n        <td>6</td>\n        <td>1154133.0</td>\n        <td>1933314.0</td>\n        <td>2016</td>\n        <td>02/10/2018 03:50:01 PM</td>\n        <td>41.97284491</td>\n        <td>-87.70860008</td>\n        <td>(41.972844913, -87.708600079)</td>\n    </tr>\n    <tr>\n        <td>7</td>\n        <td>4494340</td>\n        <td>HL793243</td>\n        <td>12/16/2005 04:45:00 PM</td>\n        <td>005XX E PERSHING RD</td>\n        <td>860</td>\n        <td>THEFT</td>\n        <td>RETAIL THEFT</td>\n        <td>GROCERY FOOD STORE</td>\n        <td>1</td>\n        <td>0</td>\n        <td>213</td>\n        <td>2</td>\n        <td>3.0</td>\n        <td>38.0</td>\n        <td>6</td>\n        <td>1180448.0</td>\n        <td>1879234.0</td>\n        <td>2005</td>\n        <td>02/28/2018 03:56:25 PM</td>\n        <td>41.82387989</td>\n        <td>-87.61350386</td>\n        <td>(41.823879885, -87.613503857)</td>\n    </tr>\n    <tr>\n        <td>8</td>\n        <td>3778925</td>\n        <td>HL149610</td>\n        <td>01/28/2005 05:00:00 PM</td>\n        <td>100XX S WASHTENAW AVE</td>\n        <td>810</td>\n        <td>THEFT</td>\n        <td>OVER $500</td>\n        <td>STREET</td>\n        <td>0</td>\n        <td>0</td>\n        <td>2211</td>\n        <td>22</td>\n        <td>19.0</td>\n        <td>72.0</td>\n        <td>6</td>\n        <td>1160129.0</td>\n        <td>1838040.0</td>\n        <td>2005</td>\n        <td>02/28/2018 03:56:25 PM</td>\n        <td>41.71128051</td>\n        <td>-87.68917909999999</td>\n        <td>(41.711280513, -87.689179097)</td>\n    </tr>\n    <tr>\n        <td>9</td>\n        <td>3324217</td>\n        <td>HK361551</td>\n        <td>05/13/2004 02:15:00 PM</td>\n        <td>033XX W BELMONT AVE</td>\n        <td>820</td>\n        <td>THEFT</td>\n        <td>$500 AND UNDER</td>\n        <td>SMALL RETAIL STORE</td>\n        <td>0</td>\n        <td>0</td>\n        <td>1733</td>\n        <td>17</td>\n        <td>35.0</td>\n        <td>21.0</td>\n        <td>6</td>\n        <td>1153590.0</td>\n        <td>1921084.0</td>\n        <td>2004</td>\n        <td>02/28/2018 03:56:25 PM</td>\n        <td>41.93929582</td>\n        <td>-87.71092344</td>\n        <td>(41.939295821, -87.710923442)</td>\n    </tr>\n</table>",
                        "text/plain": "[(0, 3512276, 'HK587712', '08/28/2004 05:50:56 PM', '047XX S KEDZIE AVE', '890', 'THEFT', 'FROM BUILDING', 'SMALL RETAIL STORE', 0, 0, 911, 9, 14.0, 58.0, '6', 1155838.0, 1873050.0, 2004, '02/10/2018 03:50:01 PM', 41.807440500000006, -87.70395585, '(41.8074405, -87.703955849)'),\n (1, 3406613, 'HK456306', '06/26/2004 12:40:00 PM', '009XX N CENTRAL PARK AVE', '820', 'THEFT', '$500 AND UNDER', 'OTHER', 0, 0, 1112, 11, 27.0, 23.0, '6', 1152206.0, 1906127.0, 2004, '02/28/2018 03:56:25 PM', 41.89827996, -87.71640551, '(41.898279962, -87.716405505)'),\n (2, 8002131, 'HT233595', '04/04/2011 05:45:00 AM', '043XX S WABASH AVE', '820', 'THEFT', '$500 AND UNDER', 'NURSING HOME/RETIREMENT HOME', 0, 0, 221, 2, 3.0, 38.0, '6', 1177436.0, 1876313.0, 2011, '02/10/2018 03:50:01 PM', 41.81593313, -87.62464213, '(41.815933131, -87.624642127)'),\n (3, 7903289, 'HT133522', '12/30/2010 04:30:00 PM', '083XX S KINGSTON AVE', '840', 'THEFT', 'FINANCIAL ID THEFT: OVER $300', 'RESIDENCE', 0, 0, 423, 4, 7.0, 46.0, '6', 1194622.0, 1850125.0, 2010, '02/10/2018 03:50:01 PM', 41.74366532, -87.56246276, '(41.743665322, -87.562462756)'),\n (4, 10402076, 'HZ138551', '02/02/2016 07:30:00 PM', '033XX W 66TH ST', '820', 'THEFT', '$500 AND UNDER', 'ALLEY', 0, 0, 831, 8, 15.0, 66.0, '6', 1155240.0, 1860661.0, 2016, '02/10/2018 03:50:01 PM', 41.773455299999995, -87.70648047, '(41.773455295, -87.706480471)'),\n (5, 7732712, 'HS540106', '09/29/2010 07:59:00 AM', '006XX W CHICAGO AVE', '810', 'THEFT', 'OVER $500', 'PARKING LOT/GARAGE(NON.RESID.)', 0, 0, 1323, 12, 27.0, 24.0, '6', 1171668.0, 1905607.0, 2010, '02/10/2018 03:50:01 PM', 41.89644677, -87.64493868, '(41.896446772, -87.644938678)'),\n (6, 10769475, 'HZ534771', '11/30/2016 01:15:00 AM', '050XX N KEDZIE AVE', '810', 'THEFT', 'OVER $500', 'STREET', 0, 0, 1713, 17, 33.0, 14.0, '6', 1154133.0, 1933314.0, 2016, '02/10/2018 03:50:01 PM', 41.97284491, -87.70860008, '(41.972844913, -87.708600079)'),\n (7, 4494340, 'HL793243', '12/16/2005 04:45:00 PM', '005XX E PERSHING RD', '860', 'THEFT', 'RETAIL THEFT', 'GROCERY FOOD STORE', 1, 0, 213, 2, 3.0, 38.0, '6', 1180448.0, 1879234.0, 2005, '02/28/2018 03:56:25 PM', 41.82387989, -87.61350386, '(41.823879885, -87.613503857)'),\n (8, 3778925, 'HL149610', '01/28/2005 05:00:00 PM', '100XX S WASHTENAW AVE', '810', 'THEFT', 'OVER $500', 'STREET', 0, 0, 2211, 22, 19.0, 72.0, '6', 1160129.0, 1838040.0, 2005, '02/28/2018 03:56:25 PM', 41.71128051, -87.68917909999999, '(41.711280513, -87.689179097)'),\n (9, 3324217, 'HK361551', '05/13/2004 02:15:00 PM', '033XX W BELMONT AVE', '820', 'THEFT', '$500 AND UNDER', 'SMALL RETAIL STORE', 0, 0, 1733, 17, 35.0, 21.0, '6', 1153590.0, 1921084.0, 2004, '02/28/2018 03:56:25 PM', 41.93929582, -87.71092344, '(41.939295821, -87.710923442)')]"
                    },
                    "execution_count": 7,
                    "metadata": {},
                    "output_type": "execute_result"
                }
            ],
            "source": "%sql SELECT * FROM CHICAGO_CRIME_DATA_ LIMIT 10"
        },
        {
            "cell_type": "code",
            "execution_count": 8,
            "metadata": {},
            "outputs": [
                {
                    "name": "stdout",
                    "output_type": "stream",
                    "text": " * ibm_db_sa://jnb22173:***@dashdb-txn-sbox-yp-dal09-04.services.dal.bluemix.net:50000/BLUDB\nDone.\n"
                },
                {
                    "data": {
                        "text/html": "<table>\n    <tr>\n        <th>community_area_number</th>\n        <th>community_area_name</th>\n        <th>percent_of_housing_crowded</th>\n        <th>percent_households_below_poverty</th>\n        <th>percent_aged_16__unemployed</th>\n        <th>percent_aged_25__without_high_school_diploma</th>\n        <th>percent_aged_under_18_or_over_64</th>\n        <th>per_capita_income</th>\n        <th>hardship_index</th>\n    </tr>\n    <tr>\n        <td>1</td>\n        <td>Rogers Park</td>\n        <td>7.7</td>\n        <td>23.6</td>\n        <td>8.7</td>\n        <td>18.2</td>\n        <td>27.5</td>\n        <td>23939</td>\n        <td>39</td>\n    </tr>\n    <tr>\n        <td>2</td>\n        <td>West Ridge</td>\n        <td>7.8</td>\n        <td>17.2</td>\n        <td>8.8</td>\n        <td>20.8</td>\n        <td>38.5</td>\n        <td>23040</td>\n        <td>46</td>\n    </tr>\n    <tr>\n        <td>3</td>\n        <td>Uptown</td>\n        <td>3.8</td>\n        <td>24.0</td>\n        <td>8.9</td>\n        <td>11.8</td>\n        <td>22.2</td>\n        <td>35787</td>\n        <td>20</td>\n    </tr>\n    <tr>\n        <td>4</td>\n        <td>Lincoln Square</td>\n        <td>3.4</td>\n        <td>10.9</td>\n        <td>8.2</td>\n        <td>13.4</td>\n        <td>25.5</td>\n        <td>37524</td>\n        <td>17</td>\n    </tr>\n    <tr>\n        <td>5</td>\n        <td>North Center</td>\n        <td>0.3</td>\n        <td>7.5</td>\n        <td>5.2</td>\n        <td>4.5</td>\n        <td>26.2</td>\n        <td>57123</td>\n        <td>6</td>\n    </tr>\n    <tr>\n        <td>6</td>\n        <td>Lake View</td>\n        <td>1.1</td>\n        <td>11.4</td>\n        <td>4.7</td>\n        <td>2.6</td>\n        <td>17.0</td>\n        <td>60058</td>\n        <td>5</td>\n    </tr>\n    <tr>\n        <td>7</td>\n        <td>Lincoln Park</td>\n        <td>0.8</td>\n        <td>12.3</td>\n        <td>5.1</td>\n        <td>3.6</td>\n        <td>21.5</td>\n        <td>71551</td>\n        <td>2</td>\n    </tr>\n    <tr>\n        <td>8</td>\n        <td>Near North Side</td>\n        <td>1.9</td>\n        <td>12.9</td>\n        <td>7.0</td>\n        <td>2.5</td>\n        <td>22.6</td>\n        <td>88669</td>\n        <td>1</td>\n    </tr>\n    <tr>\n        <td>9</td>\n        <td>Edison Park</td>\n        <td>1.1</td>\n        <td>3.3</td>\n        <td>6.5</td>\n        <td>7.4</td>\n        <td>35.3</td>\n        <td>40959</td>\n        <td>8</td>\n    </tr>\n    <tr>\n        <td>10</td>\n        <td>Norwood Park</td>\n        <td>2.0</td>\n        <td>5.4</td>\n        <td>9.0</td>\n        <td>11.5</td>\n        <td>39.5</td>\n        <td>32875</td>\n        <td>21</td>\n    </tr>\n</table>",
                        "text/plain": "[(1, 'Rogers Park', Decimal('7.7'), Decimal('23.6'), Decimal('8.7'), Decimal('18.2'), Decimal('27.5'), 23939, 39),\n (2, 'West Ridge', Decimal('7.8'), Decimal('17.2'), Decimal('8.8'), Decimal('20.8'), Decimal('38.5'), 23040, 46),\n (3, 'Uptown', Decimal('3.8'), Decimal('24.0'), Decimal('8.9'), Decimal('11.8'), Decimal('22.2'), 35787, 20),\n (4, 'Lincoln Square', Decimal('3.4'), Decimal('10.9'), Decimal('8.2'), Decimal('13.4'), Decimal('25.5'), 37524, 17),\n (5, 'North Center', Decimal('0.3'), Decimal('7.5'), Decimal('5.2'), Decimal('4.5'), Decimal('26.2'), 57123, 6),\n (6, 'Lake View', Decimal('1.1'), Decimal('11.4'), Decimal('4.7'), Decimal('2.6'), Decimal('17.0'), 60058, 5),\n (7, 'Lincoln Park', Decimal('0.8'), Decimal('12.3'), Decimal('5.1'), Decimal('3.6'), Decimal('21.5'), 71551, 2),\n (8, 'Near North Side', Decimal('1.9'), Decimal('12.9'), Decimal('7.0'), Decimal('2.5'), Decimal('22.6'), 88669, 1),\n (9, 'Edison Park', Decimal('1.1'), Decimal('3.3'), Decimal('6.5'), Decimal('7.4'), Decimal('35.3'), 40959, 8),\n (10, 'Norwood Park', Decimal('2.0'), Decimal('5.4'), Decimal('9.0'), Decimal('11.5'), Decimal('39.5'), 32875, 21)]"
                    },
                    "execution_count": 8,
                    "metadata": {},
                    "output_type": "execute_result"
                }
            ],
            "source": "%sql SELECT * FROM Census_data limit 10"
        },
        {
            "cell_type": "code",
            "execution_count": 9,
            "metadata": {},
            "outputs": [
                {
                    "name": "stdout",
                    "output_type": "stream",
                    "text": " * ibm_db_sa://jnb22173:***@dashdb-txn-sbox-yp-dal09-04.services.dal.bluemix.net:50000/BLUDB\nDone.\n"
                },
                {
                    "data": {
                        "text/html": "<table>\n    <tr>\n        <th>School_ID</th>\n        <th>name_of_school</th>\n        <th>Elementary, Middle, or High School</th>\n        <th>Street_Address</th>\n        <th>City</th>\n        <th>State</th>\n        <th>ZIP_Code</th>\n        <th>Phone_Number</th>\n        <th>Link</th>\n        <th>Network_Manager</th>\n        <th>Collaborative_Name</th>\n        <th>Adequate_Yearly_Progress_Made_</th>\n        <th>Track_Schedule</th>\n        <th>CPS_Performance_Policy_Status</th>\n        <th>CPS_Performance_Policy_Level</th>\n        <th>healthy_school_certified</th>\n        <th>Safety_Icon</th>\n        <th>safety_score</th>\n        <th>Family_Involvement_Icon</th>\n        <th>Family_Involvement_Score</th>\n        <th>Environment_Icon</th>\n        <th>Environment_Score</th>\n        <th>Instruction_Icon</th>\n        <th>Instruction_Score</th>\n        <th>Leaders_Icon</th>\n        <th>Leaders_Score</th>\n        <th>Teachers_Icon</th>\n        <th>Teachers_Score</th>\n        <th>Parent_Engagement_Icon</th>\n        <th>Parent_Engagement_Score</th>\n        <th>Parent_Environment_Icon</th>\n        <th>Parent_Environment_Score</th>\n        <th>average_student_attendance</th>\n        <th>Rate_of_Misconducts__per_100_students_</th>\n        <th>Average_Teacher_Attendance</th>\n        <th>Individualized_Education_Program_Compliance_Rate</th>\n        <th>Pk_2_Literacy__</th>\n        <th>Pk_2_Math__</th>\n        <th>Gr3_5_Grade_Level_Math__</th>\n        <th>Gr3_5_Grade_Level_Read__</th>\n        <th>Gr3_5_Keep_Pace_Read__</th>\n        <th>Gr3_5_Keep_Pace_Math__</th>\n        <th>Gr6_8_Grade_Level_Math__</th>\n        <th>Gr6_8_Grade_Level_Read__</th>\n        <th>Gr6_8_Keep_Pace_Math_</th>\n        <th>Gr6_8_Keep_Pace_Read__</th>\n        <th>Gr_8_Explore_Math__</th>\n        <th>Gr_8_Explore_Read__</th>\n        <th>ISAT_Exceeding_Math__</th>\n        <th>ISAT_Exceeding_Reading__</th>\n        <th>ISAT_Value_Add_Math</th>\n        <th>ISAT_Value_Add_Read</th>\n        <th>ISAT_Value_Add_Color_Math</th>\n        <th>ISAT_Value_Add_Color_Read</th>\n        <th>Students_Taking__Algebra__</th>\n        <th>Students_Passing__Algebra__</th>\n        <th>9th Grade EXPLORE (2009)</th>\n        <th>9th Grade EXPLORE (2010)</th>\n        <th>10th Grade PLAN (2009)</th>\n        <th>10th Grade PLAN (2010)</th>\n        <th>Net_Change_EXPLORE_and_PLAN</th>\n        <th>11th Grade Average ACT (2011)</th>\n        <th>Net_Change_PLAN_and_ACT</th>\n        <th>College_Eligibility__</th>\n        <th>Graduation_Rate__</th>\n        <th>College_Enrollment_Rate__</th>\n        <th>college_enrollment</th>\n        <th>General_Services_Route</th>\n        <th>Freshman_on_Track_Rate__</th>\n        <th>x_coordinate</th>\n        <th>y_coordinate</th>\n        <th>Latitude</th>\n        <th>Longitude</th>\n        <th>community_area_number</th>\n        <th>community_area_name</th>\n        <th>Ward</th>\n        <th>Police_District</th>\n        <th>Location</th>\n    </tr>\n    <tr>\n        <td>610038</td>\n        <td>Abraham Lincoln Elementary School</td>\n        <td>ES</td>\n        <td>615 W Kemper Pl</td>\n        <td>Chicago</td>\n        <td>IL</td>\n        <td>60614</td>\n        <td>(773) 534-5720</td>\n        <td>http://schoolreports.cps.edu/SchoolProgressReport_Eng/Spring2011Eng_610038.pdf</td>\n        <td>Fullerton Elementary Network</td>\n        <td>NORTH-NORTHWEST SIDE COLLABORATIVE</td>\n        <td>No</td>\n        <td>Standard</td>\n        <td>Not on Probation</td>\n        <td>Level 1</td>\n        <td>Yes</td>\n        <td>Very Strong</td>\n        <td>99</td>\n        <td>Very Strong</td>\n        <td>99</td>\n        <td>Strong</td>\n        <td>74</td>\n        <td>Strong</td>\n        <td>66</td>\n        <td>Strong</td>\n        <td>65</td>\n        <td>Strong</td>\n        <td>70</td>\n        <td>Strong</td>\n        <td>56</td>\n        <td>Average</td>\n        <td>47</td>\n        <td>96.00%</td>\n        <td>2.0</td>\n        <td>96.40%</td>\n        <td>95.80%</td>\n        <td>80.1</td>\n        <td>43.3</td>\n        <td>89.6</td>\n        <td>84.9</td>\n        <td>60.7</td>\n        <td>62.6</td>\n        <td>81.9</td>\n        <td>85.2</td>\n        <td>52</td>\n        <td>62.4</td>\n        <td>66.3</td>\n        <td>77.9</td>\n        <td>69.7</td>\n        <td>64.4</td>\n        <td>0.2</td>\n        <td>0.9</td>\n        <td>Yellow</td>\n        <td>Green</td>\n        <td>67.1</td>\n        <td>54.5</td>\n        <td>NDA</td>\n        <td>NDA</td>\n        <td>NDA</td>\n        <td>NDA</td>\n        <td>NDA</td>\n        <td>NDA</td>\n        <td>NDA</td>\n        <td>NDA</td>\n        <td>NDA</td>\n        <td>NDA</td>\n        <td>813</td>\n        <td>33</td>\n        <td>NDA</td>\n        <td>1171699.458</td>\n        <td>1915829.428</td>\n        <td>41.92449696</td>\n        <td>-87.64452163</td>\n        <td>7</td>\n        <td>LINCOLN PARK</td>\n        <td>43</td>\n        <td>18</td>\n        <td>(41.92449696, -87.64452163)</td>\n    </tr>\n    <tr>\n        <td>610281</td>\n        <td>Adam Clayton Powell Paideia Community Academy Elementary School</td>\n        <td>ES</td>\n        <td>7511 S South Shore Dr</td>\n        <td>Chicago</td>\n        <td>IL</td>\n        <td>60649</td>\n        <td>(773) 535-6650</td>\n        <td>http://schoolreports.cps.edu/SchoolProgressReport_Eng/Spring2011Eng_610281.pdf</td>\n        <td>Skyway Elementary Network</td>\n        <td>SOUTH SIDE COLLABORATIVE</td>\n        <td>No</td>\n        <td>Track_E</td>\n        <td>Not on Probation</td>\n        <td>Level 1</td>\n        <td>No</td>\n        <td>Average</td>\n        <td>54</td>\n        <td>Strong</td>\n        <td>66</td>\n        <td>Strong</td>\n        <td>74</td>\n        <td>Very Strong</td>\n        <td>84</td>\n        <td>Strong</td>\n        <td>63</td>\n        <td>Strong</td>\n        <td>76</td>\n        <td>Weak</td>\n        <td>46</td>\n        <td>Average</td>\n        <td>50</td>\n        <td>95.60%</td>\n        <td>15.7</td>\n        <td>95.30%</td>\n        <td>100.00%</td>\n        <td>62.4</td>\n        <td>51.7</td>\n        <td>21.9</td>\n        <td>15.1</td>\n        <td>29</td>\n        <td>42.8</td>\n        <td>38.5</td>\n        <td>27.4</td>\n        <td>44.8</td>\n        <td>42.7</td>\n        <td>14.1</td>\n        <td>34.4</td>\n        <td>16.8</td>\n        <td>16.5</td>\n        <td>0.7</td>\n        <td>1.4</td>\n        <td>Green</td>\n        <td>Green</td>\n        <td>17.2</td>\n        <td>27.3</td>\n        <td>NDA</td>\n        <td>NDA</td>\n        <td>NDA</td>\n        <td>NDA</td>\n        <td>NDA</td>\n        <td>NDA</td>\n        <td>NDA</td>\n        <td>NDA</td>\n        <td>NDA</td>\n        <td>NDA</td>\n        <td>521</td>\n        <td>46</td>\n        <td>NDA</td>\n        <td>1196129.985</td>\n        <td>1856209.466</td>\n        <td>41.76032435</td>\n        <td>-87.55673627</td>\n        <td>43</td>\n        <td>SOUTH SHORE</td>\n        <td>7</td>\n        <td>4</td>\n        <td>(41.76032435, -87.55673627)</td>\n    </tr>\n    <tr>\n        <td>610185</td>\n        <td>Adlai E Stevenson Elementary School</td>\n        <td>ES</td>\n        <td>8010 S Kostner Ave</td>\n        <td>Chicago</td>\n        <td>IL</td>\n        <td>60652</td>\n        <td>(773) 535-2280</td>\n        <td>http://schoolreports.cps.edu/SchoolProgressReport_Eng/Spring2011Eng_610185.pdf</td>\n        <td>Midway Elementary Network</td>\n        <td>SOUTHWEST SIDE COLLABORATIVE</td>\n        <td>No</td>\n        <td>Standard</td>\n        <td>Not on Probation</td>\n        <td>Level 2</td>\n        <td>No</td>\n        <td>Strong</td>\n        <td>61</td>\n        <td>NDA</td>\n        <td>NDA</td>\n        <td>Average</td>\n        <td>50</td>\n        <td>Weak</td>\n        <td>36</td>\n        <td>NDA</td>\n        <td>NDA</td>\n        <td>NDA</td>\n        <td>NDA</td>\n        <td>Average</td>\n        <td>47</td>\n        <td>Weak</td>\n        <td>41</td>\n        <td>95.70%</td>\n        <td>2.3</td>\n        <td>94.70%</td>\n        <td>98.30%</td>\n        <td>53.7</td>\n        <td>26.6</td>\n        <td>38.3</td>\n        <td>34.7</td>\n        <td>43.7</td>\n        <td>57.3</td>\n        <td>48.8</td>\n        <td>39.2</td>\n        <td>46.8</td>\n        <td>44</td>\n        <td>7.5</td>\n        <td>21.9</td>\n        <td>18.3</td>\n        <td>15.5</td>\n        <td>-0.9</td>\n        <td>-1.0</td>\n        <td>Red</td>\n        <td>Red</td>\n        <td>NDA</td>\n        <td>NDA</td>\n        <td>NDA</td>\n        <td>NDA</td>\n        <td>NDA</td>\n        <td>NDA</td>\n        <td>NDA</td>\n        <td>NDA</td>\n        <td>NDA</td>\n        <td>NDA</td>\n        <td>NDA</td>\n        <td>NDA</td>\n        <td>1324</td>\n        <td>44</td>\n        <td>NDA</td>\n        <td>1148427.165</td>\n        <td>1851012.215</td>\n        <td>41.74711093</td>\n        <td>-87.73170248</td>\n        <td>70</td>\n        <td>ASHBURN</td>\n        <td>13</td>\n        <td>8</td>\n        <td>(41.74711093, -87.73170248)</td>\n    </tr>\n    <tr>\n        <td>609993</td>\n        <td>Agustin Lara Elementary Academy</td>\n        <td>ES</td>\n        <td>4619 S Wolcott Ave</td>\n        <td>Chicago</td>\n        <td>IL</td>\n        <td>60609</td>\n        <td>(773) 535-4389</td>\n        <td>http://schoolreports.cps.edu/SchoolProgressReport_Eng/Spring2011Eng_609993.pdf</td>\n        <td>Pershing Elementary Network</td>\n        <td>SOUTHWEST SIDE COLLABORATIVE</td>\n        <td>No</td>\n        <td>Track_E</td>\n        <td>Not on Probation</td>\n        <td>Level 1</td>\n        <td>No</td>\n        <td>Average</td>\n        <td>56</td>\n        <td>Average</td>\n        <td>44</td>\n        <td>Average</td>\n        <td>45</td>\n        <td>Weak</td>\n        <td>37</td>\n        <td>Strong</td>\n        <td>65</td>\n        <td>Average</td>\n        <td>48</td>\n        <td>Average</td>\n        <td>53</td>\n        <td>Strong</td>\n        <td>58</td>\n        <td>95.50%</td>\n        <td>10.4</td>\n        <td>95.80%</td>\n        <td>100.00%</td>\n        <td>76.9</td>\n        <td>NDA</td>\n        <td>26</td>\n        <td>24.7</td>\n        <td>61.8</td>\n        <td>49.7</td>\n        <td>39.2</td>\n        <td>27.2</td>\n        <td>69.7</td>\n        <td>60.6</td>\n        <td>9.1</td>\n        <td>18.2</td>\n        <td>11.1</td>\n        <td>9.6</td>\n        <td>0.9</td>\n        <td>2.4</td>\n        <td>Green</td>\n        <td>Green</td>\n        <td>42.9</td>\n        <td>25</td>\n        <td>NDA</td>\n        <td>NDA</td>\n        <td>NDA</td>\n        <td>NDA</td>\n        <td>NDA</td>\n        <td>NDA</td>\n        <td>NDA</td>\n        <td>NDA</td>\n        <td>NDA</td>\n        <td>NDA</td>\n        <td>556</td>\n        <td>42</td>\n        <td>NDA</td>\n        <td>1164504.290</td>\n        <td>1873959.199</td>\n        <td>41.80975690</td>\n        <td>-87.67214460</td>\n        <td>61</td>\n        <td>NEW CITY</td>\n        <td>20</td>\n        <td>9</td>\n        <td>(41.8097569, -87.6721446)</td>\n    </tr>\n    <tr>\n        <td>610513</td>\n        <td>Air Force Academy High School</td>\n        <td>HS</td>\n        <td>3630 S Wells St</td>\n        <td>Chicago</td>\n        <td>IL</td>\n        <td>60609</td>\n        <td>(773) 535-1590</td>\n        <td>http://schoolreports.cps.edu/SchoolProgressReport_Eng/Spring2011Eng_610513.pdf</td>\n        <td>Southwest Side High School Network</td>\n        <td>SOUTHWEST SIDE COLLABORATIVE</td>\n        <td>NDA</td>\n        <td>Standard</td>\n        <td>Not on Probation</td>\n        <td>Not Enough Data</td>\n        <td>Yes</td>\n        <td>Average</td>\n        <td>49</td>\n        <td>Strong</td>\n        <td>60</td>\n        <td>Strong</td>\n        <td>60</td>\n        <td>Average</td>\n        <td>55</td>\n        <td>Average</td>\n        <td>45</td>\n        <td>Average</td>\n        <td>54</td>\n        <td>Average</td>\n        <td>53</td>\n        <td>Average</td>\n        <td>49</td>\n        <td>93.30%</td>\n        <td>15.6</td>\n        <td>96.90%</td>\n        <td>100.00%</td>\n        <td>NDA</td>\n        <td>NDA</td>\n        <td>NDA</td>\n        <td>NDA</td>\n        <td>NDA</td>\n        <td>NDA</td>\n        <td>NDA</td>\n        <td>NDA</td>\n        <td>NDA</td>\n        <td>NDA</td>\n        <td>NDA</td>\n        <td>NDA</td>\n        <td>None</td>\n        <td>None</td>\n        <td>None</td>\n        <td>None</td>\n        <td>NDA</td>\n        <td>NDA</td>\n        <td>NDA</td>\n        <td>NDA</td>\n        <td>14.6</td>\n        <td>14.8</td>\n        <td>NDA</td>\n        <td>16</td>\n        <td>1.4</td>\n        <td>NDA</td>\n        <td>NDA</td>\n        <td>NDA</td>\n        <td>NDA</td>\n        <td>NDA</td>\n        <td>302</td>\n        <td>40</td>\n        <td>91.8</td>\n        <td>1175177.622</td>\n        <td>1880745.126</td>\n        <td>41.82814609</td>\n        <td>-87.63279369</td>\n        <td>34</td>\n        <td>ARMOUR SQUARE</td>\n        <td>11</td>\n        <td>9</td>\n        <td>(41.82814609, -87.63279369)</td>\n    </tr>\n    <tr>\n        <td>610212</td>\n        <td>Albany Park Multicultural Academy</td>\n        <td>MS</td>\n        <td>4929 N Sawyer Ave</td>\n        <td>Chicago</td>\n        <td>IL</td>\n        <td>60625</td>\n        <td>(773) 534-5108</td>\n        <td>http://schoolreports.cps.edu/SchoolProgressReport_Eng/Spring2011Eng_610212.pdf</td>\n        <td>O&#x27;Hare Elementary Network</td>\n        <td>NORTH-NORTHWEST SIDE COLLABORATIVE</td>\n        <td>Yes</td>\n        <td>Standard</td>\n        <td>Not on Probation</td>\n        <td>Level 1</td>\n        <td>No</td>\n        <td>Strong</td>\n        <td>66</td>\n        <td>Weak</td>\n        <td>37</td>\n        <td>Strong</td>\n        <td>66</td>\n        <td>Strong</td>\n        <td>71</td>\n        <td>Average</td>\n        <td>43</td>\n        <td>Average</td>\n        <td>50</td>\n        <td>Weak</td>\n        <td>46</td>\n        <td>Average</td>\n        <td>51</td>\n        <td>97.00%</td>\n        <td>2.3</td>\n        <td>96.90%</td>\n        <td>100.00%</td>\n        <td>NDA</td>\n        <td>NDA</td>\n        <td>NDA</td>\n        <td>NDA</td>\n        <td>NDA</td>\n        <td>NDA</td>\n        <td>60.7</td>\n        <td>39.8</td>\n        <td>53.7</td>\n        <td>59.8</td>\n        <td>17.5</td>\n        <td>20.8</td>\n        <td>34.5</td>\n        <td>15.6</td>\n        <td>0.2</td>\n        <td>0.3</td>\n        <td>Yellow</td>\n        <td>Yellow</td>\n        <td>29.2</td>\n        <td>50</td>\n        <td>NDA</td>\n        <td>NDA</td>\n        <td>NDA</td>\n        <td>NDA</td>\n        <td>NDA</td>\n        <td>NDA</td>\n        <td>NDA</td>\n        <td>NDA</td>\n        <td>NDA</td>\n        <td>NDA</td>\n        <td>266</td>\n        <td>31</td>\n        <td>NDA</td>\n        <td>1153858.196</td>\n        <td>1932691.891</td>\n        <td>41.97114330</td>\n        <td>-87.70962725</td>\n        <td>14</td>\n        <td>ALBANY PARK</td>\n        <td>39</td>\n        <td>17</td>\n        <td>(41.9711433, -87.70962725)</td>\n    </tr>\n    <tr>\n        <td>609720</td>\n        <td>Albert G Lane Technical High School</td>\n        <td>HS</td>\n        <td>2501 W Addison St</td>\n        <td>Chicago</td>\n        <td>IL</td>\n        <td>60618</td>\n        <td>(773) 534-5400</td>\n        <td>http://schoolreports.cps.edu/SchoolProgressReport_Eng/Spring2011Eng_609720.pdf</td>\n        <td>North-Northwest Side High School Network</td>\n        <td>NORTH-NORTHWEST SIDE COLLABORATIVE</td>\n        <td>Yes</td>\n        <td>Standard</td>\n        <td>Not on Probation</td>\n        <td>Level 1</td>\n        <td>No</td>\n        <td>Very Strong</td>\n        <td>88</td>\n        <td>NDA</td>\n        <td>NDA</td>\n        <td>Strong</td>\n        <td>62</td>\n        <td>Average</td>\n        <td>52</td>\n        <td>NDA</td>\n        <td>NDA</td>\n        <td>NDA</td>\n        <td>NDA</td>\n        <td>NDA</td>\n        <td>NDA</td>\n        <td>NDA</td>\n        <td>NDA</td>\n        <td>96.30%</td>\n        <td>2.1</td>\n        <td>96.20%</td>\n        <td>99.40%</td>\n        <td>NDA</td>\n        <td>NDA</td>\n        <td>NDA</td>\n        <td>NDA</td>\n        <td>NDA</td>\n        <td>NDA</td>\n        <td>NDA</td>\n        <td>NDA</td>\n        <td>NDA</td>\n        <td>NDA</td>\n        <td>NDA</td>\n        <td>NDA</td>\n        <td>None</td>\n        <td>None</td>\n        <td>None</td>\n        <td>None</td>\n        <td>NDA</td>\n        <td>NDA</td>\n        <td>NDA</td>\n        <td>NDA</td>\n        <td>19.1</td>\n        <td>19.5</td>\n        <td>19.9</td>\n        <td>20.1</td>\n        <td>1</td>\n        <td>23.4</td>\n        <td>3.5</td>\n        <td>67.9</td>\n        <td>92.2</td>\n        <td>79.8</td>\n        <td>4368</td>\n        <td>35</td>\n        <td>90.7</td>\n        <td>1158975.392</td>\n        <td>1923791.705</td>\n        <td>41.94661693</td>\n        <td>-87.69105603</td>\n        <td>5</td>\n        <td>NORTH CENTER</td>\n        <td>47</td>\n        <td>19</td>\n        <td>(41.94661693, -87.69105603)</td>\n    </tr>\n    <tr>\n        <td>610342</td>\n        <td>Albert R Sabin Elementary Magnet School</td>\n        <td>ES</td>\n        <td>2216 W Hirsch St</td>\n        <td>Chicago</td>\n        <td>IL</td>\n        <td>60622</td>\n        <td>(773) 534-4491</td>\n        <td>http://schoolreports.cps.edu/SchoolProgressReport_Eng/Spring2011Eng_610342.pdf</td>\n        <td>Fulton Elementary Network</td>\n        <td>WEST SIDE COLLABORATIVE</td>\n        <td>No</td>\n        <td>Standard</td>\n        <td>Probation</td>\n        <td>Level 3</td>\n        <td>No</td>\n        <td>Strong</td>\n        <td>67</td>\n        <td>NDA</td>\n        <td>NDA</td>\n        <td>Weak</td>\n        <td>30</td>\n        <td>Very Weak</td>\n        <td>18</td>\n        <td>NDA</td>\n        <td>NDA</td>\n        <td>NDA</td>\n        <td>NDA</td>\n        <td>NDA</td>\n        <td>NDA</td>\n        <td>NDA</td>\n        <td>NDA</td>\n        <td>94.70%</td>\n        <td>28.1</td>\n        <td>95.00%</td>\n        <td>100.00%</td>\n        <td>56.3</td>\n        <td>NDA</td>\n        <td>33.5</td>\n        <td>33.5</td>\n        <td>49.5</td>\n        <td>49.5</td>\n        <td>27.4</td>\n        <td>39.3</td>\n        <td>35.5</td>\n        <td>44.4</td>\n        <td>25</td>\n        <td>23.4</td>\n        <td>18.0</td>\n        <td>12.8</td>\n        <td>-1.8</td>\n        <td>0.1</td>\n        <td>Red</td>\n        <td>Yellow</td>\n        <td>NDA</td>\n        <td>NDA</td>\n        <td>NDA</td>\n        <td>NDA</td>\n        <td>NDA</td>\n        <td>NDA</td>\n        <td>NDA</td>\n        <td>NDA</td>\n        <td>NDA</td>\n        <td>NDA</td>\n        <td>NDA</td>\n        <td>NDA</td>\n        <td>620</td>\n        <td>35</td>\n        <td>NDA</td>\n        <td>1161265.299</td>\n        <td>1909314.592</td>\n        <td>41.90684338</td>\n        <td>-87.68304259</td>\n        <td>24</td>\n        <td>WEST TOWN</td>\n        <td>1</td>\n        <td>14</td>\n        <td>(41.90684338, -87.68304259)</td>\n    </tr>\n    <tr>\n        <td>610524</td>\n        <td>Alcott High School for the Humanities</td>\n        <td>HS</td>\n        <td>2957 N Hoyne Ave</td>\n        <td>Chicago</td>\n        <td>IL</td>\n        <td>60618</td>\n        <td>(773) 534-5979</td>\n        <td>http://schoolreports.cps.edu/SchoolProgressReport_Eng/Spring2011Eng_610524.pdf</td>\n        <td>North-Northwest Side High School Network</td>\n        <td>NORTH-NORTHWEST SIDE COLLABORATIVE</td>\n        <td>NDA</td>\n        <td>Standard</td>\n        <td>Not on Probation</td>\n        <td>Not Enough Data</td>\n        <td>No</td>\n        <td>Strong</td>\n        <td>70</td>\n        <td>NDA</td>\n        <td>NDA</td>\n        <td>Strong</td>\n        <td>67</td>\n        <td>Average</td>\n        <td>51</td>\n        <td>NDA</td>\n        <td>NDA</td>\n        <td>NDA</td>\n        <td>NDA</td>\n        <td>Strong</td>\n        <td>57</td>\n        <td>Weak</td>\n        <td>43</td>\n        <td>92.70%</td>\n        <td>7.1</td>\n        <td>96.90%</td>\n        <td>100.00%</td>\n        <td>NDA</td>\n        <td>NDA</td>\n        <td>NDA</td>\n        <td>NDA</td>\n        <td>NDA</td>\n        <td>NDA</td>\n        <td>NDA</td>\n        <td>NDA</td>\n        <td>NDA</td>\n        <td>NDA</td>\n        <td>NDA</td>\n        <td>NDA</td>\n        <td>None</td>\n        <td>None</td>\n        <td>None</td>\n        <td>None</td>\n        <td>NDA</td>\n        <td>NDA</td>\n        <td>NDA</td>\n        <td>NDA</td>\n        <td>14.7</td>\n        <td>13.7</td>\n        <td>NDA</td>\n        <td>16</td>\n        <td>1.3</td>\n        <td>NDA</td>\n        <td>NDA</td>\n        <td>NDA</td>\n        <td>NDA</td>\n        <td>NDA</td>\n        <td>232</td>\n        <td>33</td>\n        <td>87.6</td>\n        <td>1161870.556</td>\n        <td>1919857.440</td>\n        <td>41.93576106</td>\n        <td>-87.68052441</td>\n        <td>5</td>\n        <td>NORTH CENTER</td>\n        <td>1</td>\n        <td>19</td>\n        <td>(41.93576106, -87.68052441)</td>\n    </tr>\n    <tr>\n        <td>610209</td>\n        <td>Alessandro Volta Elementary School</td>\n        <td>ES</td>\n        <td>4950 N Avers Ave</td>\n        <td>Chicago</td>\n        <td>IL</td>\n        <td>60625</td>\n        <td>(773) 534-5080</td>\n        <td>http://schoolreports.cps.edu/SchoolProgressReport_Eng/Spring2011Eng_610209.pdf</td>\n        <td>O&#x27;Hare Elementary Network</td>\n        <td>NORTH-NORTHWEST SIDE COLLABORATIVE</td>\n        <td>No</td>\n        <td>Track_E</td>\n        <td>Not on Probation</td>\n        <td>Level 2</td>\n        <td>No</td>\n        <td>Average</td>\n        <td>43</td>\n        <td>Strong</td>\n        <td>61</td>\n        <td>Weak</td>\n        <td>28</td>\n        <td>Weak</td>\n        <td>37</td>\n        <td>Strong</td>\n        <td>62</td>\n        <td>Average</td>\n        <td>56</td>\n        <td>Average</td>\n        <td>51</td>\n        <td>Average</td>\n        <td>53</td>\n        <td>96.40%</td>\n        <td>22.5</td>\n        <td>95.90%</td>\n        <td>100.00%</td>\n        <td>63.9</td>\n        <td>43.2</td>\n        <td>51.3</td>\n        <td>32.9</td>\n        <td>50.7</td>\n        <td>70</td>\n        <td>52.5</td>\n        <td>31.3</td>\n        <td>59.8</td>\n        <td>57.6</td>\n        <td>16.5</td>\n        <td>24.7</td>\n        <td>19.9</td>\n        <td>14.2</td>\n        <td>0.3</td>\n        <td>-0.4</td>\n        <td>Yellow</td>\n        <td>Yellow</td>\n        <td>31.6</td>\n        <td>65.2</td>\n        <td>NDA</td>\n        <td>NDA</td>\n        <td>NDA</td>\n        <td>NDA</td>\n        <td>NDA</td>\n        <td>NDA</td>\n        <td>NDA</td>\n        <td>NDA</td>\n        <td>NDA</td>\n        <td>NDA</td>\n        <td>1023</td>\n        <td>31</td>\n        <td>NDA</td>\n        <td>1149774.095</td>\n        <td>1932831.151</td>\n        <td>41.97160605</td>\n        <td>-87.72464139</td>\n        <td>14</td>\n        <td>ALBANY PARK</td>\n        <td>39</td>\n        <td>17</td>\n        <td>(41.97160605, -87.72464139)</td>\n    </tr>\n</table>",
                        "text/plain": "[(610038, 'Abraham Lincoln Elementary School', 'ES', '615 W Kemper Pl', 'Chicago', 'IL', 60614, '(773) 534-5720', 'http://schoolreports.cps.edu/SchoolProgressReport_Eng/Spring2011Eng_610038.pdf', 'Fullerton Elementary Network', 'NORTH-NORTHWEST SIDE COLLABORATIVE', 'No', 'Standard', 'Not on Probation', 'Level 1', 'Yes', 'Very Strong', 99, 'Very Strong', '99', 'Strong', 74, 'Strong', 66, 'Strong', '65', 'Strong', '70', 'Strong', '56', 'Average', '47', '96.00%', Decimal('2.0'), '96.40%', '95.80%', '80.1', '43.3', '89.6', '84.9', '60.7', '62.6', '81.9', '85.2', '52', '62.4', '66.3', '77.9', Decimal('69.7'), Decimal('64.4'), Decimal('0.2'), Decimal('0.9'), 'Yellow', 'Green', '67.1', '54.5', 'NDA', 'NDA', 'NDA', 'NDA', 'NDA', 'NDA', 'NDA', 'NDA', 'NDA', 'NDA', 813, 33, 'NDA', Decimal('1171699.458'), Decimal('1915829.428'), Decimal('41.92449696'), Decimal('-87.64452163'), 7, 'LINCOLN PARK', 43, 18, '(41.92449696, -87.64452163)'),\n (610281, 'Adam Clayton Powell Paideia Community Academy Elementary School', 'ES', '7511 S South Shore Dr', 'Chicago', 'IL', 60649, '(773) 535-6650', 'http://schoolreports.cps.edu/SchoolProgressReport_Eng/Spring2011Eng_610281.pdf', 'Skyway Elementary Network', 'SOUTH SIDE COLLABORATIVE', 'No', 'Track_E', 'Not on Probation', 'Level 1', 'No', 'Average', 54, 'Strong', '66', 'Strong', 74, 'Very Strong', 84, 'Strong', '63', 'Strong', '76', 'Weak', '46', 'Average', '50', '95.60%', Decimal('15.7'), '95.30%', '100.00%', '62.4', '51.7', '21.9', '15.1', '29', '42.8', '38.5', '27.4', '44.8', '42.7', '14.1', '34.4', Decimal('16.8'), Decimal('16.5'), Decimal('0.7'), Decimal('1.4'), 'Green', 'Green', '17.2', '27.3', 'NDA', 'NDA', 'NDA', 'NDA', 'NDA', 'NDA', 'NDA', 'NDA', 'NDA', 'NDA', 521, 46, 'NDA', Decimal('1196129.985'), Decimal('1856209.466'), Decimal('41.76032435'), Decimal('-87.55673627'), 43, 'SOUTH SHORE', 7, 4, '(41.76032435, -87.55673627)'),\n (610185, 'Adlai E Stevenson Elementary School', 'ES', '8010 S Kostner Ave', 'Chicago', 'IL', 60652, '(773) 535-2280', 'http://schoolreports.cps.edu/SchoolProgressReport_Eng/Spring2011Eng_610185.pdf', 'Midway Elementary Network', 'SOUTHWEST SIDE COLLABORATIVE', 'No', 'Standard', 'Not on Probation', 'Level 2', 'No', 'Strong', 61, 'NDA', 'NDA', 'Average', 50, 'Weak', 36, 'NDA', 'NDA', 'NDA', 'NDA', 'Average', '47', 'Weak', '41', '95.70%', Decimal('2.3'), '94.70%', '98.30%', '53.7', '26.6', '38.3', '34.7', '43.7', '57.3', '48.8', '39.2', '46.8', '44', '7.5', '21.9', Decimal('18.3'), Decimal('15.5'), Decimal('-0.9'), Decimal('-1.0'), 'Red', 'Red', 'NDA', 'NDA', 'NDA', 'NDA', 'NDA', 'NDA', 'NDA', 'NDA', 'NDA', 'NDA', 'NDA', 'NDA', 1324, 44, 'NDA', Decimal('1148427.165'), Decimal('1851012.215'), Decimal('41.74711093'), Decimal('-87.73170248'), 70, 'ASHBURN', 13, 8, '(41.74711093, -87.73170248)'),\n (609993, 'Agustin Lara Elementary Academy', 'ES', '4619 S Wolcott Ave', 'Chicago', 'IL', 60609, '(773) 535-4389', 'http://schoolreports.cps.edu/SchoolProgressReport_Eng/Spring2011Eng_609993.pdf', 'Pershing Elementary Network', 'SOUTHWEST SIDE COLLABORATIVE', 'No', 'Track_E', 'Not on Probation', 'Level 1', 'No', 'Average', 56, 'Average', '44', 'Average', 45, 'Weak', 37, 'Strong', '65', 'Average', '48', 'Average', '53', 'Strong', '58', '95.50%', Decimal('10.4'), '95.80%', '100.00%', '76.9', 'NDA', '26', '24.7', '61.8', '49.7', '39.2', '27.2', '69.7', '60.6', '9.1', '18.2', Decimal('11.1'), Decimal('9.6'), Decimal('0.9'), Decimal('2.4'), 'Green', 'Green', '42.9', '25', 'NDA', 'NDA', 'NDA', 'NDA', 'NDA', 'NDA', 'NDA', 'NDA', 'NDA', 'NDA', 556, 42, 'NDA', Decimal('1164504.290'), Decimal('1873959.199'), Decimal('41.80975690'), Decimal('-87.67214460'), 61, 'NEW CITY', 20, 9, '(41.8097569, -87.6721446)'),\n (610513, 'Air Force Academy High School', 'HS', '3630 S Wells St', 'Chicago', 'IL', 60609, '(773) 535-1590', 'http://schoolreports.cps.edu/SchoolProgressReport_Eng/Spring2011Eng_610513.pdf', 'Southwest Side High School Network', 'SOUTHWEST SIDE COLLABORATIVE', 'NDA', 'Standard', 'Not on Probation', 'Not Enough Data', 'Yes', 'Average', 49, 'Strong', '60', 'Strong', 60, 'Average', 55, 'Average', '45', 'Average', '54', 'Average', '53', 'Average', '49', '93.30%', Decimal('15.6'), '96.90%', '100.00%', 'NDA', 'NDA', 'NDA', 'NDA', 'NDA', 'NDA', 'NDA', 'NDA', 'NDA', 'NDA', 'NDA', 'NDA', None, None, None, None, 'NDA', 'NDA', 'NDA', 'NDA', '14.6', '14.8', 'NDA', '16', '1.4', 'NDA', 'NDA', 'NDA', 'NDA', 'NDA', 302, 40, '91.8', Decimal('1175177.622'), Decimal('1880745.126'), Decimal('41.82814609'), Decimal('-87.63279369'), 34, 'ARMOUR SQUARE', 11, 9, '(41.82814609, -87.63279369)'),\n (610212, 'Albany Park Multicultural Academy', 'MS', '4929 N Sawyer Ave', 'Chicago', 'IL', 60625, '(773) 534-5108', 'http://schoolreports.cps.edu/SchoolProgressReport_Eng/Spring2011Eng_610212.pdf', \"O'Hare Elementary Network\", 'NORTH-NORTHWEST SIDE COLLABORATIVE', 'Yes', 'Standard', 'Not on Probation', 'Level 1', 'No', 'Strong', 66, 'Weak', '37', 'Strong', 66, 'Strong', 71, 'Average', '43', 'Average', '50', 'Weak', '46', 'Average', '51', '97.00%', Decimal('2.3'), '96.90%', '100.00%', 'NDA', 'NDA', 'NDA', 'NDA', 'NDA', 'NDA', '60.7', '39.8', '53.7', '59.8', '17.5', '20.8', Decimal('34.5'), Decimal('15.6'), Decimal('0.2'), Decimal('0.3'), 'Yellow', 'Yellow', '29.2', '50', 'NDA', 'NDA', 'NDA', 'NDA', 'NDA', 'NDA', 'NDA', 'NDA', 'NDA', 'NDA', 266, 31, 'NDA', Decimal('1153858.196'), Decimal('1932691.891'), Decimal('41.97114330'), Decimal('-87.70962725'), 14, 'ALBANY PARK', 39, 17, '(41.9711433, -87.70962725)'),\n (609720, 'Albert G Lane Technical High School', 'HS', '2501 W Addison St', 'Chicago', 'IL', 60618, '(773) 534-5400', 'http://schoolreports.cps.edu/SchoolProgressReport_Eng/Spring2011Eng_609720.pdf', 'North-Northwest Side High School Network', 'NORTH-NORTHWEST SIDE COLLABORATIVE', 'Yes', 'Standard', 'Not on Probation', 'Level 1', 'No', 'Very Strong', 88, 'NDA', 'NDA', 'Strong', 62, 'Average', 52, 'NDA', 'NDA', 'NDA', 'NDA', 'NDA', 'NDA', 'NDA', 'NDA', '96.30%', Decimal('2.1'), '96.20%', '99.40%', 'NDA', 'NDA', 'NDA', 'NDA', 'NDA', 'NDA', 'NDA', 'NDA', 'NDA', 'NDA', 'NDA', 'NDA', None, None, None, None, 'NDA', 'NDA', 'NDA', 'NDA', '19.1', '19.5', '19.9', '20.1', '1', '23.4', '3.5', '67.9', '92.2', '79.8', 4368, 35, '90.7', Decimal('1158975.392'), Decimal('1923791.705'), Decimal('41.94661693'), Decimal('-87.69105603'), 5, 'NORTH CENTER', 47, 19, '(41.94661693, -87.69105603)'),\n (610342, 'Albert R Sabin Elementary Magnet School', 'ES', '2216 W Hirsch St', 'Chicago', 'IL', 60622, '(773) 534-4491', 'http://schoolreports.cps.edu/SchoolProgressReport_Eng/Spring2011Eng_610342.pdf', 'Fulton Elementary Network', 'WEST SIDE COLLABORATIVE', 'No', 'Standard', 'Probation', 'Level 3', 'No', 'Strong', 67, 'NDA', 'NDA', 'Weak', 30, 'Very Weak', 18, 'NDA', 'NDA', 'NDA', 'NDA', 'NDA', 'NDA', 'NDA', 'NDA', '94.70%', Decimal('28.1'), '95.00%', '100.00%', '56.3', 'NDA', '33.5', '33.5', '49.5', '49.5', '27.4', '39.3', '35.5', '44.4', '25', '23.4', Decimal('18.0'), Decimal('12.8'), Decimal('-1.8'), Decimal('0.1'), 'Red', 'Yellow', 'NDA', 'NDA', 'NDA', 'NDA', 'NDA', 'NDA', 'NDA', 'NDA', 'NDA', 'NDA', 'NDA', 'NDA', 620, 35, 'NDA', Decimal('1161265.299'), Decimal('1909314.592'), Decimal('41.90684338'), Decimal('-87.68304259'), 24, 'WEST TOWN', 1, 14, '(41.90684338, -87.68304259)'),\n (610524, 'Alcott High School for the Humanities', 'HS', '2957 N Hoyne Ave', 'Chicago', 'IL', 60618, '(773) 534-5979', 'http://schoolreports.cps.edu/SchoolProgressReport_Eng/Spring2011Eng_610524.pdf', 'North-Northwest Side High School Network', 'NORTH-NORTHWEST SIDE COLLABORATIVE', 'NDA', 'Standard', 'Not on Probation', 'Not Enough Data', 'No', 'Strong', 70, 'NDA', 'NDA', 'Strong', 67, 'Average', 51, 'NDA', 'NDA', 'NDA', 'NDA', 'Strong', '57', 'Weak', '43', '92.70%', Decimal('7.1'), '96.90%', '100.00%', 'NDA', 'NDA', 'NDA', 'NDA', 'NDA', 'NDA', 'NDA', 'NDA', 'NDA', 'NDA', 'NDA', 'NDA', None, None, None, None, 'NDA', 'NDA', 'NDA', 'NDA', '14.7', '13.7', 'NDA', '16', '1.3', 'NDA', 'NDA', 'NDA', 'NDA', 'NDA', 232, 33, '87.6', Decimal('1161870.556'), Decimal('1919857.440'), Decimal('41.93576106'), Decimal('-87.68052441'), 5, 'NORTH CENTER', 1, 19, '(41.93576106, -87.68052441)'),\n (610209, 'Alessandro Volta Elementary School', 'ES', '4950 N Avers Ave', 'Chicago', 'IL', 60625, '(773) 534-5080', 'http://schoolreports.cps.edu/SchoolProgressReport_Eng/Spring2011Eng_610209.pdf', \"O'Hare Elementary Network\", 'NORTH-NORTHWEST SIDE COLLABORATIVE', 'No', 'Track_E', 'Not on Probation', 'Level 2', 'No', 'Average', 43, 'Strong', '61', 'Weak', 28, 'Weak', 37, 'Strong', '62', 'Average', '56', 'Average', '51', 'Average', '53', '96.40%', Decimal('22.5'), '95.90%', '100.00%', '63.9', '43.2', '51.3', '32.9', '50.7', '70', '52.5', '31.3', '59.8', '57.6', '16.5', '24.7', Decimal('19.9'), Decimal('14.2'), Decimal('0.3'), Decimal('-0.4'), 'Yellow', 'Yellow', '31.6', '65.2', 'NDA', 'NDA', 'NDA', 'NDA', 'NDA', 'NDA', 'NDA', 'NDA', 'NDA', 'NDA', 1023, 31, 'NDA', Decimal('1149774.095'), Decimal('1932831.151'), Decimal('41.97160605'), Decimal('-87.72464139'), 14, 'ALBANY PARK', 39, 17, '(41.97160605, -87.72464139)')]"
                    },
                    "execution_count": 9,
                    "metadata": {},
                    "output_type": "execute_result"
                }
            ],
            "source": "%sql select * from chicago_public_schools limit 10"
        },
        {
            "cell_type": "code",
            "execution_count": 10,
            "metadata": {
                "scrolled": true
            },
            "outputs": [
                {
                    "name": "stdout",
                    "output_type": "stream",
                    "text": " * ibm_db_sa://jnb22173:***@dashdb-txn-sbox-yp-dal09-04.services.dal.bluemix.net:50000/BLUDB\nDone.\n"
                },
                {
                    "data": {
                        "text/html": "<table>\n    <tr>\n        <th>1</th>\n    </tr>\n    <tr>\n        <td>163</td>\n    </tr>\n</table>",
                        "text/plain": "[(Decimal('163'),)]"
                    },
                    "execution_count": 10,
                    "metadata": {},
                    "output_type": "execute_result"
                }
            ],
            "source": "%sql SELECT COUNT(*) FROM CHICAGO_CRIME_DATA_ WHERE ARREST = 1"
        },
        {
            "cell_type": "code",
            "execution_count": 43,
            "metadata": {},
            "outputs": [
                {
                    "name": "stdout",
                    "output_type": "stream",
                    "text": " * ibm_db_sa://jnb22173:***@dashdb-txn-sbox-yp-dal09-04.services.dal.bluemix.net:50000/BLUDB\n(ibm_db_dbi.ProgrammingError) ibm_db_dbi::ProgrammingError: SQLNumResultCols failed: [IBM][CLI Driver][DB2/LINUXX8664] SQL0134N  Improper use of a string column, host variable, constant, or function \"PRIMARY_TYPE\".  SQLSTATE=42907 SQLCODE=-134 [SQL: \"SELECT distinct(primary_type)\\nFROM CHICAGO_CRIME_DATA_ WHERE location_description = 'GAS STATION'\"] (Background on this error at: http://sqlalche.me/e/f405)\n"
                }
            ],
            "source": "%%sql SELECT distinct(primary_type)\nFROM CHICAGO_CRIME_DATA_ WHERE location_description = 'GAS STATION'"
        },
        {
            "cell_type": "code",
            "execution_count": 12,
            "metadata": {},
            "outputs": [
                {
                    "name": "stdout",
                    "output_type": "stream",
                    "text": " * ibm_db_sa://jnb22173:***@dashdb-txn-sbox-yp-dal09-04.services.dal.bluemix.net:50000/BLUDB\nDone.\n"
                },
                {
                    "data": {
                        "text/html": "<table>\n    <tr>\n        <th>community_area_number</th>\n        <th>community_area_name</th>\n        <th>percent_of_housing_crowded</th>\n        <th>percent_households_below_poverty</th>\n        <th>percent_aged_16__unemployed</th>\n        <th>percent_aged_25__without_high_school_diploma</th>\n        <th>percent_aged_under_18_or_over_64</th>\n        <th>per_capita_income</th>\n        <th>hardship_index</th>\n    </tr>\n    <tr>\n        <td>19</td>\n        <td>Belmont Cragin</td>\n        <td>10.8</td>\n        <td>18.7</td>\n        <td>14.6</td>\n        <td>37.3</td>\n        <td>37.3</td>\n        <td>15461</td>\n        <td>70</td>\n    </tr>\n    <tr>\n        <td>47</td>\n        <td>Burnside</td>\n        <td>6.8</td>\n        <td>33.0</td>\n        <td>18.6</td>\n        <td>19.3</td>\n        <td>42.7</td>\n        <td>12515</td>\n        <td>79</td>\n    </tr>\n    <tr>\n        <td>58</td>\n        <td>Brighton Park</td>\n        <td>14.4</td>\n        <td>23.6</td>\n        <td>13.9</td>\n        <td>45.1</td>\n        <td>39.3</td>\n        <td>13089</td>\n        <td>84</td>\n    </tr>\n    <tr>\n        <td>60</td>\n        <td>Bridgeport</td>\n        <td>4.5</td>\n        <td>18.9</td>\n        <td>13.7</td>\n        <td>22.2</td>\n        <td>31.3</td>\n        <td>22694</td>\n        <td>43</td>\n    </tr>\n    <tr>\n        <td>72</td>\n        <td>Beverly</td>\n        <td>0.9</td>\n        <td>5.1</td>\n        <td>8.0</td>\n        <td>3.7</td>\n        <td>40.5</td>\n        <td>39523</td>\n        <td>12</td>\n    </tr>\n</table>",
                        "text/plain": "[(19, 'Belmont Cragin', Decimal('10.8'), Decimal('18.7'), Decimal('14.6'), Decimal('37.3'), Decimal('37.3'), 15461, 70),\n (47, 'Burnside', Decimal('6.8'), Decimal('33.0'), Decimal('18.6'), Decimal('19.3'), Decimal('42.7'), 12515, 79),\n (58, 'Brighton Park', Decimal('14.4'), Decimal('23.6'), Decimal('13.9'), Decimal('45.1'), Decimal('39.3'), 13089, 84),\n (60, 'Bridgeport', Decimal('4.5'), Decimal('18.9'), Decimal('13.7'), Decimal('22.2'), Decimal('31.3'), 22694, 43),\n (72, 'Beverly', Decimal('0.9'), Decimal('5.1'), Decimal('8.0'), Decimal('3.7'), Decimal('40.5'), 39523, 12)]"
                    },
                    "execution_count": 12,
                    "metadata": {},
                    "output_type": "execute_result"
                }
            ],
            "source": "%sql SELECT * FROM CENSUS_DATA WHERE community_area_name LIKE 'B%'"
        },
        {
            "cell_type": "code",
            "execution_count": 13,
            "metadata": {},
            "outputs": [
                {
                    "name": "stdout",
                    "output_type": "stream",
                    "text": " * ibm_db_sa://jnb22173:***@dashdb-txn-sbox-yp-dal09-04.services.dal.bluemix.net:50000/BLUDB\nDone.\n"
                },
                {
                    "data": {
                        "text/html": "<table>\n    <tr>\n        <th>name_of_school</th>\n    </tr>\n    <tr>\n        <td>Rufus M Hitch Elementary School</td>\n    </tr>\n</table>",
                        "text/plain": "[('Rufus M Hitch Elementary School',)]"
                    },
                    "execution_count": 13,
                    "metadata": {},
                    "output_type": "execute_result"
                }
            ],
            "source": "%%sql select name_of_school from chicago_public_schools \nWHERE (community_area_number >= 10 AND community_area_number <=15) AND healthy_school_certified = 'Yes'"
        },
        {
            "cell_type": "code",
            "execution_count": 14,
            "metadata": {},
            "outputs": [
                {
                    "name": "stdout",
                    "output_type": "stream",
                    "text": " * ibm_db_sa://jnb22173:***@dashdb-txn-sbox-yp-dal09-04.services.dal.bluemix.net:50000/BLUDB\nDone.\n"
                },
                {
                    "data": {
                        "text/html": "<table>\n    <tr>\n        <th>avg_safety_score</th>\n    </tr>\n    <tr>\n        <td>49.504873</td>\n    </tr>\n</table>",
                        "text/plain": "[(Decimal('49.504873'),)]"
                    },
                    "execution_count": 14,
                    "metadata": {},
                    "output_type": "execute_result"
                }
            ],
            "source": "%sql select AVG(SAFETY_SCORE) AS AVG_SAFETY_SCORE from chicago_public_schools "
        },
        {
            "cell_type": "code",
            "execution_count": 15,
            "metadata": {},
            "outputs": [
                {
                    "name": "stdout",
                    "output_type": "stream",
                    "text": " * ibm_db_sa://jnb22173:***@dashdb-txn-sbox-yp-dal09-04.services.dal.bluemix.net:50000/BLUDB\nDone.\n"
                },
                {
                    "data": {
                        "text/html": "<table>\n    <tr>\n        <th>community_area_name</th>\n        <th>avg_college_enrollment</th>\n    </tr>\n    <tr>\n        <td>ARCHER HEIGHTS</td>\n        <td>2411.500000</td>\n    </tr>\n    <tr>\n        <td>MONTCLARE</td>\n        <td>1317.000000</td>\n    </tr>\n    <tr>\n        <td>WEST ELSDON</td>\n        <td>1233.333333</td>\n    </tr>\n    <tr>\n        <td>BRIGHTON PARK</td>\n        <td>1205.875000</td>\n    </tr>\n    <tr>\n        <td>BELMONT CRAGIN</td>\n        <td>1198.833333</td>\n    </tr>\n</table>",
                        "text/plain": "[('ARCHER HEIGHTS', Decimal('2411.500000')),\n ('MONTCLARE', Decimal('1317.000000')),\n ('WEST ELSDON', Decimal('1233.333333')),\n ('BRIGHTON PARK', Decimal('1205.875000')),\n ('BELMONT CRAGIN', Decimal('1198.833333'))]"
                    },
                    "execution_count": 15,
                    "metadata": {},
                    "output_type": "execute_result"
                }
            ],
            "source": "%%sql select community_area_name, avg(college_enrollment) as avg_college_enrollment\nFROM chicago_public_schools \ngroup by community_area_name\norder by avg_college_enrollment desc limit 5"
        },
        {
            "cell_type": "code",
            "execution_count": 16,
            "metadata": {},
            "outputs": [
                {
                    "name": "stdout",
                    "output_type": "stream",
                    "text": " * ibm_db_sa://jnb22173:***@dashdb-txn-sbox-yp-dal09-04.services.dal.bluemix.net:50000/BLUDB\nDone.\n"
                },
                {
                    "data": {
                        "text/html": "<table>\n    <tr>\n        <th>community_area_name</th>\n        <th>min_safety_score</th>\n    </tr>\n    <tr>\n        <td>WASHINGTON PARK</td>\n        <td>1</td>\n    </tr>\n</table>",
                        "text/plain": "[('WASHINGTON PARK', 1)]"
                    },
                    "execution_count": 16,
                    "metadata": {},
                    "output_type": "execute_result"
                }
            ],
            "source": "%%sql select community_area_name, MIN(SAFETY_SCORE) AS min_safety_score\nFROM chicago_public_schools\ngroup by community_area_name\norder by min_safety_score limit 1"
        },
        {
            "cell_type": "code",
            "execution_count": 17,
            "metadata": {},
            "outputs": [
                {
                    "name": "stdout",
                    "output_type": "stream",
                    "text": " * ibm_db_sa://jnb22173:***@dashdb-txn-sbox-yp-dal09-04.services.dal.bluemix.net:50000/BLUDB\nDone.\n"
                },
                {
                    "data": {
                        "text/html": "<table>\n    <tr>\n        <th>community_area_name</th>\n        <th>min_safety_score</th>\n    </tr>\n    <tr>\n        <td>WASHINGTON PARK</td>\n        <td>1</td>\n    </tr>\n</table>",
                        "text/plain": "[('WASHINGTON PARK', 1)]"
                    },
                    "execution_count": 17,
                    "metadata": {},
                    "output_type": "execute_result"
                }
            ],
            "source": "%%sql select community_area_name, MIN(SAFETY_SCORE) AS min_safety_score\nFROM chicago_public_schools\nWHERE safety_score = (select min(SAFETY_SCORE) from  chicago_public_schools)\ngroup by community_area_name"
        },
        {
            "cell_type": "code",
            "execution_count": 39,
            "metadata": {},
            "outputs": [
                {
                    "name": "stdout",
                    "output_type": "stream",
                    "text": " * ibm_db_sa://jnb22173:***@dashdb-txn-sbox-yp-dal09-04.services.dal.bluemix.net:50000/BLUDB\nDone.\n"
                },
                {
                    "data": {
                        "text/html": "<table>\n    <tr>\n        <th>community_area_name</th>\n        <th>per_capita_income</th>\n    </tr>\n</table>",
                        "text/plain": "[]"
                    },
                    "execution_count": 39,
                    "metadata": {},
                    "output_type": "execute_result"
                }
            ],
            "source": "%%sql select upper(community_area_name) as community_area_name, per_capita_income from CENSUS_DATA\nWHERE (select upper(community_area_name) as community_area_name FROM chicago_public_schools \n       WHERE safety_score = 1 and census_data.community_area_name = chicago_public_schools.community_area_name)"
        },
        {
            "cell_type": "code",
            "execution_count": 19,
            "metadata": {},
            "outputs": [
                {
                    "name": "stdout",
                    "output_type": "stream",
                    "text": " * ibm_db_sa://jnb22173:***@dashdb-txn-sbox-yp-dal09-04.services.dal.bluemix.net:50000/BLUDB\nDone.\n"
                },
                {
                    "data": {
                        "text/html": "<table>\n    <tr>\n        <th>community_area_name</th>\n    </tr>\n    <tr>\n        <td>WASHINGTON PARK</td>\n    </tr>\n</table>",
                        "text/plain": "[('WASHINGTON PARK',)]"
                    },
                    "execution_count": 19,
                    "metadata": {},
                    "output_type": "execute_result"
                }
            ],
            "source": "%%sql select community_area_name\n     FROM chicago_public_schools\n     WHERE safety_score = 1"
        },
        {
            "cell_type": "code",
            "execution_count": 37,
            "metadata": {},
            "outputs": [
                {
                    "name": "stdout",
                    "output_type": "stream",
                    "text": " * ibm_db_sa://jnb22173:***@dashdb-txn-sbox-yp-dal09-04.services.dal.bluemix.net:50000/BLUDB\nDone.\n"
                },
                {
                    "data": {
                        "text/html": "<table>\n    <tr>\n        <th>community_area_name</th>\n        <th>per_capita_income</th>\n    </tr>\n</table>",
                        "text/plain": "[]"
                    },
                    "execution_count": 37,
                    "metadata": {},
                    "output_type": "execute_result"
                }
            ],
            "source": "%%sql select upper(cd.community_area_name) as community_area_name, cd.per_capita_income from CENSUS_DATA cd\nJOIN chicago_public_schools cps on cps.community_area_name = cd.community_area_name\nwhere cps.safety_score =1"
        },
        {
            "cell_type": "code",
            "execution_count": 26,
            "metadata": {},
            "outputs": [
                {
                    "name": "stdout",
                    "output_type": "stream",
                    "text": " * ibm_db_sa://jnb22173:***@dashdb-txn-sbox-yp-dal09-04.services.dal.bluemix.net:50000/BLUDB\nDone.\n"
                },
                {
                    "data": {
                        "text/html": "<table>\n    <tr>\n        <th>community_area_name</th>\n        <th>per_capita_income</th>\n    </tr>\n    <tr>\n        <td>Washington Park</td>\n        <td>13785</td>\n    </tr>\n</table>",
                        "text/plain": "[('Washington Park', 13785)]"
                    },
                    "execution_count": 26,
                    "metadata": {},
                    "output_type": "execute_result"
                }
            ],
            "source": "%%sql select community_area_name, per_capita_income\n     FROM census_data\n     WHERE community_area_name like 'Washington Park'"
        },
        {
            "cell_type": "code",
            "execution_count": 44,
            "metadata": {},
            "outputs": [
                {
                    "name": "stdout",
                    "output_type": "stream",
                    "text": " * ibm_db_sa://jnb22173:***@dashdb-txn-sbox-yp-dal09-04.services.dal.bluemix.net:50000/BLUDB\nDone.\n"
                },
                {
                    "data": {
                        "text/html": "<table>\n    <tr>\n        <th>per_capita_income</th>\n    </tr>\n</table>",
                        "text/plain": "[]"
                    },
                    "execution_count": 44,
                    "metadata": {},
                    "output_type": "execute_result"
                }
            ],
            "source": "%%sql select per_capita_income from CENSUS_DATA A, chicago_public_schools B\nWHERE A.community_area_name = B.community_area_name and B.safety_score =1"
        },
        {
            "cell_type": "code",
            "execution_count": null,
            "metadata": {},
            "outputs": [],
            "source": ""
        }
    ],
    "metadata": {
        "kernelspec": {
            "display_name": "Python 3.6",
            "language": "python",
            "name": "python3"
        },
        "language_info": {
            "codemirror_mode": {
                "name": "ipython",
                "version": 3
            },
            "file_extension": ".py",
            "mimetype": "text/x-python",
            "name": "python",
            "nbconvert_exporter": "python",
            "pygments_lexer": "ipython3",
            "version": "3.6.8"
        }
    },
    "nbformat": 4,
    "nbformat_minor": 1
}